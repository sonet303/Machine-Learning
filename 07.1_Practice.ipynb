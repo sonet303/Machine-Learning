{
 "cells": [
  {
   "cell_type": "code",
   "execution_count": 3,
   "id": "f272c61f-636b-4e7a-af42-9eba9e094cc5",
   "metadata": {},
   "outputs": [],
   "source": [
    "classes = ['ClassA', 'ClassB', 'ClassC', 'ClassD']\n",
    "instances = ['ClassA', 'ClassB', 'ClassC', 'ClassD', 'ClassA', 'ClassB', 'ClassC', 'ClassD', 'ClassA', 'ClassB']"
   ]
  },
  {
   "cell_type": "code",
   "execution_count": 7,
   "id": "29d9a791-f28a-47ef-b716-34a289a272ba",
   "metadata": {},
   "outputs": [],
   "source": [
    "label_to_int = {label: index for index, label in enumerate(classes)}\n",
    "encoded_labels = [label_to_int[label] for label in instances]"
   ]
  },
  {
   "cell_type": "code",
   "execution_count": 9,
   "id": "72191d60-3535-4cbe-891e-e8ce98208fa9",
   "metadata": {},
   "outputs": [
    {
     "data": {
      "text/plain": [
       "[0, 1, 2, 3, 0, 1, 2, 3, 0, 1]"
      ]
     },
     "execution_count": 9,
     "metadata": {},
     "output_type": "execute_result"
    }
   ],
   "source": [
    "encoded_labels"
   ]
  },
  {
   "cell_type": "code",
   "execution_count": 19,
   "id": "39d95296-b88a-441e-b799-36918a5eceb8",
   "metadata": {},
   "outputs": [
    {
     "data": {
      "text/plain": [
       "dict_items([('ClassA', 0), ('ClassB', 1), ('ClassC', 2), ('ClassD', 3)])"
      ]
     },
     "execution_count": 19,
     "metadata": {},
     "output_type": "execute_result"
    }
   ],
   "source": [
    "label_to_int.items()"
   ]
  },
  {
   "cell_type": "code",
   "execution_count": 23,
   "id": "f4e0b67d-3e57-4083-9c44-1d22060a7095",
   "metadata": {},
   "outputs": [],
   "source": [
    "int_to_label = {index:label for label, index in label_to_int.items()}"
   ]
  },
  {
   "cell_type": "code",
   "execution_count": 25,
   "id": "18fbaeb0-530f-4e5c-b2a7-a8c5821d3fe7",
   "metadata": {},
   "outputs": [],
   "source": [
    "decode_labels = [int_to_label[index] for index in encoded_labels]"
   ]
  },
  {
   "cell_type": "code",
   "execution_count": 46,
   "id": "66ebc9ee-9c3a-4448-b4f0-f9285e2e3807",
   "metadata": {},
   "outputs": [
    {
     "name": "stdout",
     "output_type": "stream",
     "text": [
      "['ClassA', 'ClassB', 'ClassC', 'ClassD', 'ClassA', 'ClassB', 'ClassC', 'ClassD', 'ClassA', 'ClassB']\n"
     ]
    }
   ],
   "source": [
    "print(decode_labels)"
   ]
  },
  {
   "cell_type": "markdown",
   "id": "e417941a-a03c-4353-bff8-849e35387744",
   "metadata": {},
   "source": [
    "# Sklearn - Label Encoder"
   ]
  },
  {
   "cell_type": "code",
   "execution_count": 30,
   "id": "f6b693ba-f53f-4dae-a8b7-8246fb6f23fe",
   "metadata": {},
   "outputs": [],
   "source": [
    "from sklearn.preprocessing import LabelEncoder"
   ]
  },
  {
   "cell_type": "code",
   "execution_count": 34,
   "id": "8a4ef90a-9f4f-4fa1-8487-e90189051490",
   "metadata": {},
   "outputs": [],
   "source": [
    "label_encoder = LabelEncoder()\n",
    "encoded_labels = label_encoder.fit_transform(instances)"
   ]
  },
  {
   "cell_type": "code",
   "execution_count": 38,
   "id": "8dff114c-2f63-4ad0-a13a-8e720a1597cf",
   "metadata": {},
   "outputs": [
    {
     "name": "stdout",
     "output_type": "stream",
     "text": [
      "Encoded Labels [0 1 2 3 0 1 2 3 0 1]\n"
     ]
    }
   ],
   "source": [
    "print('Encoded Labels',encoded_labels)"
   ]
  },
  {
   "cell_type": "code",
   "execution_count": 40,
   "id": "a90e1850-8c07-4880-9604-5e12ce1c5080",
   "metadata": {},
   "outputs": [],
   "source": [
    "original_labels = label_encoder.inverse_transform(encoded_labels)"
   ]
  },
  {
   "cell_type": "code",
   "execution_count": 44,
   "id": "ecf23a97-a965-47ee-9497-806251b77de1",
   "metadata": {},
   "outputs": [
    {
     "name": "stdout",
     "output_type": "stream",
     "text": [
      "Original_level ['ClassA' 'ClassB' 'ClassC' 'ClassD' 'ClassA' 'ClassB' 'ClassC' 'ClassD'\n",
      " 'ClassA' 'ClassB']\n"
     ]
    }
   ],
   "source": [
    "print('Original_level',original_labels)"
   ]
  },
  {
   "cell_type": "code",
   "execution_count": null,
   "id": "39c6769b-b15a-4ca0-815e-68d7f7c7d003",
   "metadata": {},
   "outputs": [],
   "source": []
  }
 ],
 "metadata": {
  "kernelspec": {
   "display_name": "Python 3 (ipykernel)",
   "language": "python",
   "name": "python3"
  },
  "language_info": {
   "codemirror_mode": {
    "name": "ipython",
    "version": 3
   },
   "file_extension": ".py",
   "mimetype": "text/x-python",
   "name": "python",
   "nbconvert_exporter": "python",
   "pygments_lexer": "ipython3",
   "version": "3.12.3"
  }
 },
 "nbformat": 4,
 "nbformat_minor": 5
}
