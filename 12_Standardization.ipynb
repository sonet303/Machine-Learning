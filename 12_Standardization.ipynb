{
 "cells": [
  {
   "cell_type": "code",
   "execution_count": 2,
   "id": "f9857ae1-6b56-4e13-8f04-16d5debd9227",
   "metadata": {},
   "outputs": [],
   "source": [
    "import pandas as pd"
   ]
  },
  {
   "cell_type": "code",
   "execution_count": 6,
   "id": "c725d2a9-e1a5-4d47-8a20-8aa0f8b15642",
   "metadata": {},
   "outputs": [
    {
     "data": {
      "text/html": [
       "<div>\n",
       "<style scoped>\n",
       "    .dataframe tbody tr th:only-of-type {\n",
       "        vertical-align: middle;\n",
       "    }\n",
       "\n",
       "    .dataframe tbody tr th {\n",
       "        vertical-align: top;\n",
       "    }\n",
       "\n",
       "    .dataframe thead th {\n",
       "        text-align: right;\n",
       "    }\n",
       "</style>\n",
       "<table border=\"1\" class=\"dataframe\">\n",
       "  <thead>\n",
       "    <tr style=\"text-align: right;\">\n",
       "      <th></th>\n",
       "      <th>Feature1</th>\n",
       "      <th>Feature2</th>\n",
       "    </tr>\n",
       "  </thead>\n",
       "  <tbody>\n",
       "    <tr>\n",
       "      <th>0</th>\n",
       "      <td>1</td>\n",
       "      <td>6</td>\n",
       "    </tr>\n",
       "    <tr>\n",
       "      <th>1</th>\n",
       "      <td>20</td>\n",
       "      <td>7</td>\n",
       "    </tr>\n",
       "    <tr>\n",
       "      <th>2</th>\n",
       "      <td>3</td>\n",
       "      <td>18</td>\n",
       "    </tr>\n",
       "    <tr>\n",
       "      <th>3</th>\n",
       "      <td>40</td>\n",
       "      <td>19</td>\n",
       "    </tr>\n",
       "    <tr>\n",
       "      <th>4</th>\n",
       "      <td>5</td>\n",
       "      <td>10</td>\n",
       "    </tr>\n",
       "  </tbody>\n",
       "</table>\n",
       "</div>"
      ],
      "text/plain": [
       "   Feature1  Feature2\n",
       "0         1         6\n",
       "1        20         7\n",
       "2         3        18\n",
       "3        40        19\n",
       "4         5        10"
      ]
     },
     "execution_count": 6,
     "metadata": {},
     "output_type": "execute_result"
    }
   ],
   "source": [
    "data = {\n",
    "    'Feature1': [1, 20, 3, 40, 5],\n",
    "    'Feature2': [6, 7, 18, 19, 10]\n",
    "}\n",
    "df = pd.DataFrame(data)\n",
    "df.head()"
   ]
  },
  {
   "cell_type": "code",
   "execution_count": 46,
   "id": "094d33d2-7047-404e-9202-ec7899e9eb50",
   "metadata": {},
   "outputs": [],
   "source": [
    "def standardization_data(data):\n",
    "    mean = data.mean()\n",
    "    std_dev = data.std()\n",
    "    standardization_data_raw = (data-mean)/std_dev\n",
    "    return standardization_data_raw"
   ]
  },
  {
   "cell_type": "code",
   "execution_count": 48,
   "id": "4e4f4714-d47a-4df4-8025-700df95ebf75",
   "metadata": {},
   "outputs": [],
   "source": [
    "standardization_data_raw = df.apply(standardization_data)"
   ]
  },
  {
   "cell_type": "code",
   "execution_count": 50,
   "id": "aa25ac65-3f18-46db-9bcb-e6c025623bd4",
   "metadata": {},
   "outputs": [
    {
     "name": "stdout",
     "output_type": "stream",
     "text": [
      "   Feature1  Feature2\n",
      "0         1         6\n",
      "1        20         7\n",
      "2         3        18\n",
      "3        40        19\n",
      "4         5        10\n",
      "\n",
      "    Feature1  Feature2\n",
      "0 -0.777975 -0.979796\n",
      "1  0.376832 -0.816497\n",
      "2 -0.656417  0.979796\n",
      "3  1.592418  1.143095\n",
      "4 -0.534858 -0.326599\n"
     ]
    }
   ],
   "source": [
    "print(df)\n",
    "print('\\n',standardization_data_raw)"
   ]
  },
  {
   "cell_type": "code",
   "execution_count": 52,
   "id": "2b7d612f-ae7c-4846-98cd-5244843f412f",
   "metadata": {},
   "outputs": [
    {
     "data": {
      "text/plain": [
       "1.0"
      ]
     },
     "execution_count": 52,
     "metadata": {},
     "output_type": "execute_result"
    }
   ],
   "source": [
    "standardization_data_raw['Feature1'].mean()+1"
   ]
  },
  {
   "cell_type": "code",
   "execution_count": 54,
   "id": "168b9ebc-ad6e-4840-8591-a5a8e1f4a864",
   "metadata": {},
   "outputs": [
    {
     "data": {
      "text/plain": [
       "0.9999999999999999"
      ]
     },
     "execution_count": 54,
     "metadata": {},
     "output_type": "execute_result"
    }
   ],
   "source": [
    "standardization_data_raw['Feature1'].std()"
   ]
  },
  {
   "cell_type": "markdown",
   "id": "a5b226da-0c77-43c3-84c3-40824d58b327",
   "metadata": {},
   "source": [
    "# Using Sklearn"
   ]
  },
  {
   "cell_type": "code",
   "execution_count": 57,
   "id": "ffdafa5c-c2b7-4bdf-bb82-60ce710ac919",
   "metadata": {},
   "outputs": [],
   "source": [
    "from sklearn.preprocessing import StandardScaler"
   ]
  },
  {
   "cell_type": "code",
   "execution_count": 61,
   "id": "13850edf-4bf2-4295-9955-1145e652ab92",
   "metadata": {},
   "outputs": [],
   "source": [
    "scaler = StandardScaler()\n",
    "standardized_data = scaler.fit_transform(df)\n",
    "standardized_df = pd.DataFrame(standardized_data, columns=df.columns)"
   ]
  },
  {
   "cell_type": "code",
   "execution_count": 67,
   "id": "46ee5f84-2283-4ee8-b90c-126f7c5312ab",
   "metadata": {},
   "outputs": [
    {
     "name": "stdout",
     "output_type": "stream",
     "text": [
      "   Feature1  Feature2\n",
      "0         1         6\n",
      "1        20         7\n",
      "2         3        18\n",
      "3        40        19\n",
      "4         5        10\n",
      "\n",
      "    Feature1  Feature2\n",
      "0 -0.777975 -0.979796\n",
      "1  0.376832 -0.816497\n",
      "2 -0.656417  0.979796\n",
      "3  1.592418  1.143095\n",
      "4 -0.534858 -0.326599\n",
      "\n",
      "    Feature1  Feature2\n",
      "0 -0.869803 -1.095445\n",
      "1  0.421311 -0.912871\n",
      "2 -0.733896  1.095445\n",
      "3  1.780378  1.278019\n",
      "4 -0.597989 -0.365148\n"
     ]
    }
   ],
   "source": [
    "print(df)\n",
    "print('\\n',standardization_data_raw)\n",
    "print('\\n',standardized_df)"
   ]
  },
  {
   "cell_type": "code",
   "execution_count": null,
   "id": "a9642463-3a7d-4aad-8c2e-7158dd312410",
   "metadata": {},
   "outputs": [],
   "source": []
  }
 ],
 "metadata": {
  "kernelspec": {
   "display_name": "Python 3 (ipykernel)",
   "language": "python",
   "name": "python3"
  },
  "language_info": {
   "codemirror_mode": {
    "name": "ipython",
    "version": 3
   },
   "file_extension": ".py",
   "mimetype": "text/x-python",
   "name": "python",
   "nbconvert_exporter": "python",
   "pygments_lexer": "ipython3",
   "version": "3.12.3"
  }
 },
 "nbformat": 4,
 "nbformat_minor": 5
}
